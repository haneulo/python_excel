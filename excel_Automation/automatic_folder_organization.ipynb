{
 "cells": [
  {
   "cell_type": "code",
   "execution_count": 3,
   "metadata": {},
   "outputs": [],
   "source": [
    "# (심화) 폴더 자동 정리 프로그램 완성하기\n",
    "import os, glob, shutil\n",
    "\n",
    "target_foleder = r\"C:\\Users\\user\\Documents\\공유폴더\"\n",
    "keyward_list = ['보고서', '데이터', '계산서']\n",
    "for keyward in keyward_list:\n",
    "    # 단어가 포함된 파일 추출\n",
    "    file_list = glob.glob(f\"{target_foleder}/*{keyward}*\")\n",
    "    # 폴더 만들기기\n",
    "    if not os.path.exists(f\"{target_foleder}/{keyward}파일\"):\n",
    "        os.mkdir(f\"{target_foleder}/{keyward}파일\")\n",
    "    # 추출한 파일들을 각 폴더로 이동\n",
    "    for file in file_list:\n",
    "        shutil.move(file, f\"{target_foleder}/{keyward}파일\")"
   ]
  },
  {
   "cell_type": "code",
   "execution_count": null,
   "metadata": {},
   "outputs": [],
   "source": []
  }
 ],
 "metadata": {
  "kernelspec": {
   "display_name": "Python 3",
   "language": "python",
   "name": "python3"
  },
  "language_info": {
   "codemirror_mode": {
    "name": "ipython",
    "version": 3
   },
   "file_extension": ".py",
   "mimetype": "text/x-python",
   "name": "python",
   "nbconvert_exporter": "python",
   "pygments_lexer": "ipython3",
   "version": "3.13.2"
  }
 },
 "nbformat": 4,
 "nbformat_minor": 2
}
