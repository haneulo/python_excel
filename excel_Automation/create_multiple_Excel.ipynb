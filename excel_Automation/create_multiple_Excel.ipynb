{
 "cells": [
  {
   "cell_type": "code",
   "execution_count": null,
   "metadata": {},
   "outputs": [],
   "source": [
    "# 한개의 엑셀 양식으로 여러 엑셀 파일 만들기\n",
    "import xlwings as xw\n",
    "\n",
    "# 엑셀 앱 만들기\n",
    "app = xw.App(add_book=False)\n",
    "\n",
    "# 엑셀 워크북 불러오기\n",
    "wb = app.books.open(r\"C:\\Users\\user\\Documents\\공유폴더\\계산서파일\\세금계산서\\세금계산서_데이터.xlsx\")\n",
    "\n",
    "# 워크 시트 선택\n",
    "ws = wb.sheets['Sheet1']\n",
    "\n",
    "# 셀 여러개 값 가져와서 rows에 저장장\n",
    "rows = ws.range('A2:F6').value\n",
    "\n",
    "# 워크북 닫기\n",
    "wb.close()\n",
    "\n",
    "# 양식 파일 열기\n",
    "# 엑셀 워크북 불러오기\n",
    "wb = app.books.open(r\"C:\\Users\\user\\Documents\\공유폴더\\계산서파일\\세금계산서\\세금계산서_양식.xlsx\")\n",
    "\n",
    "# 워크 시트 선택\n",
    "ws = wb.sheets['자료입력페이지']\n",
    "\n",
    "# rows 데이터를 선택한 셀에 입력 후 파일 저장장\n",
    "for row in rows:\n",
    "    ws.range('H5').value = row[0]\n",
    "    ws.range('H6').value = row[1]\n",
    "    ws.range('H7').value = row[2]\n",
    "    ws.range('H8').value = row[3]\n",
    "    ws.range('H9').value = row[4]\n",
    "    ws.range('H10').value = row[5]\n",
    "    wb.save(rf\"C:\\Users\\user\\Documents\\공유폴더\\계산서파일\\세금계산서\\세금계산서_{row[0]}.xlsx\")\n",
    "\n",
    "# 앱 종료\n",
    "app.quit()"
   ]
  }
 ],
 "metadata": {
  "kernelspec": {
   "display_name": "Python 3",
   "language": "python",
   "name": "python3"
  },
  "language_info": {
   "codemirror_mode": {
    "name": "ipython",
    "version": 3
   },
   "file_extension": ".py",
   "mimetype": "text/x-python",
   "name": "python",
   "nbconvert_exporter": "python",
   "pygments_lexer": "ipython3",
   "version": "3.13.2"
  }
 },
 "nbformat": 4,
 "nbformat_minor": 2
}
